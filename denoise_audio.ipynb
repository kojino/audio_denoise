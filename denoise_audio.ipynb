{
 "cells": [
  {
   "cell_type": "code",
   "execution_count": 1,
   "metadata": {
    "collapsed": false
   },
   "outputs": [],
   "source": [
    "from __future__ import division\n",
    "from numpy import linalg as LA\n",
    "\n",
    "import numpy as np\n",
    "\n",
    "np.set_printoptions(threshold=np.inf)\n",
    "import sys\n",
    "import librosa\n",
    "import matplotlib.pyplot as plt"
   ]
  },
  {
   "cell_type": "code",
   "execution_count": 61,
   "metadata": {
    "collapsed": true
   },
   "outputs": [],
   "source": [
    "L = 512  # frame length\n",
    "M = 500  # overlapping windows\n",
    "\n",
    "params = {\n",
    "\n",
    "    'rule_1': {\n",
    "        'n_iter': 2200  # n_iter\n",
    "    },\n",
    "\n",
    "    'rule_2': {\n",
    "        'error': 10 ** -20\n",
    "    },\n",
    "\n",
    "    'verbose': True\n",
    "}\n",
    "\n",
    "signal, fs = librosa.core.load('./dataset/out_librosa_wnoise_voice.wav')\n",
    "K = 2500"
   ]
  },
  {
   "cell_type": "code",
   "execution_count": 62,
   "metadata": {
    "collapsed": false
   },
   "outputs": [],
   "source": [
    "X = []\n",
    "for k in range(1,K+1):\n",
    "    xk = signal[(k-1) * (L-M) + 1 : k * L - (k - 1) * M + 1]\n",
    "    X.append(xk)\n",
    "X = np.array(X).T"
   ]
  },
  {
   "cell_type": "code",
   "execution_count": 63,
   "metadata": {
    "collapsed": true
   },
   "outputs": [],
   "source": [
    "def unbuffer(X, hop):\n",
    "    N, L = X.shape\n",
    "\n",
    "    T = N + L * hop\n",
    "    K = np.arange(0, N)\n",
    "    x = np.zeros(T)\n",
    "    H = np.hanning(N)\n",
    "    for k in xrange(0, L):\n",
    "        x[K] = x[K] + np.multiply(H, X[:, k])\n",
    "        K = K + hop\n",
    "\n",
    "    return x"
   ]
  },
  {
   "cell_type": "code",
   "execution_count": 64,
   "metadata": {
    "collapsed": true
   },
   "outputs": [],
   "source": [
    "class GAD():\n",
    "    def __init__(self, X, params):\n",
    "\n",
    "        self.X = X\n",
    "        self.D = []\n",
    "        self.params = params\n",
    "        self.n_iter = self.params['rule_1']['n_iter']  # num_iterations\n",
    "        self.verbose = self.params['verbose']\n",
    "\n",
    "        self.K = self.X.shape[0]  # sample length\n",
    "        self.L = self.X.shape[1]  # maximum atoms to be learned\n",
    "\n",
    "        self.I = np.arange(0, self.L)\n",
    "        self.set_ind = []\n",
    "\n",
    "    def findResidualColumn(self):\n",
    "\n",
    "        # Find residual column of R^l with lowest l1- to l2-norm ration\n",
    "        tmp = []\n",
    "\n",
    "        # COMPACT WAY TO DO IT\n",
    "        # tmp2 = np.sum(np.abs(self.R),axis=0)/np.sqrt(np.sum(np.power(np.abs(self.R),2),axis=0))\n",
    "        for k in self.I:\n",
    "            r_k = self.R[:, k]\n",
    "            tmp.append(LA.norm(r_k, 1) / LA.norm(r_k, 2))\n",
    "\n",
    "        ind_k_min = np.nanargmin(tmp)  # nanargmin, nanmin\n",
    "        k_min = tmp[ind_k_min]\n",
    "        r_k_min = self.R[:, self.I[ind_k_min]]\n",
    "\n",
    "        # Set the l-th atom to equal to normalized r_k\n",
    "        psi = r_k_min / LA.norm(r_k_min, 2)\n",
    "\n",
    "        # Add to the dictionary D and its index and shrinking set I\n",
    "        self.D.append(psi)\n",
    "        self.set_ind.append(self.I[ind_k_min])\n",
    "\n",
    "        # COMPACT WAY TO DO IT\n",
    "        # self.R = self.R - np.dot(np.outer(psi, psi), self.R)\n",
    "        # self.R = np.delete(self.R, (ind_k_min), axis=1)\n",
    "\n",
    "        # Compute the new residual for all columns k\n",
    "        for k in self.I:\n",
    "            r_k = self.R[:, k]\n",
    "            alpha = np.dot(r_k, psi)\n",
    "            self.R[:, k] = r_k - np.dot(psi, alpha)\n",
    "\n",
    "        self.I = np.delete(self.I, ind_k_min)\n",
    "\n",
    "    def iterative_GAD(self):\n",
    "\n",
    "        # X columns w/ unit L2-norm\n",
    "        # for k in xrange(0,self.X.shape[1]):\n",
    "        #     self.X[:,k] = np.divide(self.X[:,k],LA.norm(self.X[:,k],2))\n",
    "\n",
    "\n",
    "        if self.n_iter > self.L:\n",
    "            print ('Cannot be learned more than %d atom!' % (self.L))\n",
    "            sys.exit()\n",
    "\n",
    "        # Initializating the residual matrix 'R' by using 'X'\n",
    "        self.R = self.X.copy()\n",
    "\n",
    "        print self.I.shape\n",
    "        for l in xrange(0, self.n_iter):\n",
    "\n",
    "            if self.verbose == True and l % 100 == 0:\n",
    "                print 'GAD iteration: ', l + 1\n",
    "\n",
    "            self.findResidualColumn()\n",
    "\n",
    "        self.D = np.vstack(self.D).T\n",
    "\n",
    "        return self.D, self.set_ind"
   ]
  },
  {
   "cell_type": "code",
   "execution_count": 65,
   "metadata": {
    "collapsed": false
   },
   "outputs": [
    {
     "name": "stdout",
     "output_type": "stream",
     "text": [
      "(2500,)\n",
      "GAD iteration:  1\n",
      "GAD iteration:  101\n",
      "GAD iteration:  201\n",
      "GAD iteration:  301\n",
      "GAD iteration:  401\n",
      "GAD iteration:  501\n",
      "GAD iteration:  601\n",
      "GAD iteration:  701\n",
      "GAD iteration:  801\n",
      "GAD iteration:  901\n",
      "GAD iteration:  1001\n",
      "GAD iteration:  1101\n",
      "GAD iteration:  1201\n",
      "GAD iteration:  1301\n",
      "GAD iteration:  1401\n",
      "GAD iteration:  1501\n",
      "GAD iteration:  1601\n",
      "GAD iteration:  1701\n",
      "GAD iteration:  1801\n",
      "GAD iteration:  1901\n",
      "GAD iteration:  2001\n"
     ]
    },
    {
     "name": "stderr",
     "output_type": "stream",
     "text": [
      "/Users/kojin/anaconda/envs/adaptive/lib/python2.7/site-packages/ipykernel_launcher.py:25: RuntimeWarning: divide by zero encountered in float_scalars\n"
     ]
    },
    {
     "name": "stdout",
     "output_type": "stream",
     "text": [
      "GAD iteration:  2101\n"
     ]
    }
   ],
   "source": [
    "alg = GAD(X, params)\n",
    "\n",
    "D, I = alg.iterative_GAD()\n",
    "\n",
    "X_t = np.dot(np.dot(D, D.T), X)"
   ]
  },
  {
   "cell_type": "code",
   "execution_count": 66,
   "metadata": {
    "collapsed": false
   },
   "outputs": [],
   "source": [
    "out = []\n",
    "for k in range(K):\n",
    "    out += list(X.T[k][:-M])"
   ]
  },
  {
   "cell_type": "code",
   "execution_count": 67,
   "metadata": {
    "collapsed": false
   },
   "outputs": [],
   "source": [
    "s_rec = unbuffer(X_t, L - M)"
   ]
  },
  {
   "cell_type": "code",
   "execution_count": 68,
   "metadata": {
    "collapsed": false
   },
   "outputs": [
    {
     "data": {
      "image/png": "[encoded data removed]",
      "text/plain": [
       "<Figure size 432x288 with 1 Axes>"
      ]
     },
     "metadata": {
      "needs_background": "light"
     },
     "output_type": "display_data"
    },
    {
     "data": {
      "image/png": "[encoded data removed]",
      "text/plain": [
       "<Figure size 432x288 with 1 Axes>"
      ]
     },
     "metadata": {
      "needs_background": "light"
     },
     "output_type": "display_data"
    }
   ],
   "source": [
    "plt.figure(1)\n",
    "plt.title('Original signal')\n",
    "plt.plot(signal)\n",
    "\n",
    "plt.figure(2)\n",
    "plt.title('Reconstructed signal')\n",
    "plt.plot(s_rec)\n",
    "\n",
    "plt.show()"
   ]
  },
  {
   "cell_type": "code",
   "execution_count": 50,
   "metadata": {
    "collapsed": false
   },
   "outputs": [],
   "source": [
    "librosa.output.write_wav(\"out.wav\",s_rec, fs)"
   ]
  },
  {
   "cell_type": "code",
   "execution_count": 52,
   "metadata": {
    "collapsed": false
   },
   "outputs": [
    {
     "data": {
      "text/plain": [
       "22050"
      ]
     },
     "execution_count": 52,
     "metadata": {},
     "output_type": "execute_result"
    }
   ],
   "source": [
    "fs"
   ]
  },
  {
   "cell_type": "code",
   "execution_count": null,
   "metadata": {
    "collapsed": true
   },
   "outputs": [],
   "source": []
  }
 ],
 "metadata": {
  "kernelspec": {
   "display_name": "adaptive",
   "language": "python",
   "name": "adaptive"
  },
  "language_info": {
   "codemirror_mode": {
    "name": "ipython",
    "version": 2
   },
   "file_extension": ".py",
   "mimetype": "text/x-python",
   "name": "python",
   "nbconvert_exporter": "python",
   "pygments_lexer": "ipython2",
   "version": "2.7.15"
  }
 },
 "nbformat": 4,
 "nbformat_minor": 2
}
